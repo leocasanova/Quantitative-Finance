{
 "cells": [
  {
   "cell_type": "code",
   "execution_count": 2,
   "metadata": {},
   "outputs": [],
   "source": [
    "import numpy as np\n",
    "import pandas as pd\n",
    "from scipy.stats import norm\n",
    "import pandas_datareader.data as web\n",
    "import datetime"
   ]
  },
  {
   "cell_type": "code",
   "execution_count": 14,
   "metadata": {},
   "outputs": [],
   "source": [
    "#If we use too much data for example back in 2010, lots of data can be deprecated\n",
    "# so to get our mu and sigma it is better to use data from the past 2-3 years\n",
    "start_date = datetime.datetime(2014,1,1)\n",
    "end_date = datetime.datetime(2017,10,15)\n",
    "\n",
    "S = 1e6 #investment\n",
    "c = 0.99 #confidence level\n",
    "n = 1"
   ]
  },
  {
   "cell_type": "markdown",
   "metadata": {},
   "source": [
    "## Variance Method"
   ]
  },
  {
   "cell_type": "code",
   "execution_count": 4,
   "metadata": {},
   "outputs": [],
   "source": [
    "#if we want to calculate VaR for tomorrow\n",
    "def value_at_risk(position,c,mu,sigma):\n",
    "    alpha = norm.ppf(1-c) #inverse of CDF (cumulative distribution function)\n",
    "    var = position*(mu-sigma*alpha)\n",
    "    return var"
   ]
  },
  {
   "cell_type": "code",
   "execution_count": 5,
   "metadata": {},
   "outputs": [],
   "source": [
    "#we want to calculate VaR in n days time\n",
    "#we have to consider that the mean and standard deviation will change\n",
    "# mu = mu*n and sigma = sigma*sqrt(n)\n",
    "def value_at_risk_long(S,c,mu,sigma,n):\n",
    "    alpha = norm.ppf(1-c)\n",
    "    var = S*(mu*n-sigma*np.sqrt(n)*alpha)\n",
    "    return var"
   ]
  },
  {
   "cell_type": "code",
   "execution_count": 6,
   "metadata": {},
   "outputs": [],
   "source": [
    "citi = web.DataReader('C', data_source='yahoo', start=start_date, end=end_date) #Citigroup Inc. (C)"
   ]
  },
  {
   "cell_type": "code",
   "execution_count": 7,
   "metadata": {},
   "outputs": [
    {
     "data": {
      "text/html": [
       "<div>\n",
       "<style scoped>\n",
       "    .dataframe tbody tr th:only-of-type {\n",
       "        vertical-align: middle;\n",
       "    }\n",
       "\n",
       "    .dataframe tbody tr th {\n",
       "        vertical-align: top;\n",
       "    }\n",
       "\n",
       "    .dataframe thead th {\n",
       "        text-align: right;\n",
       "    }\n",
       "</style>\n",
       "<table border=\"1\" class=\"dataframe\">\n",
       "  <thead>\n",
       "    <tr style=\"text-align: right;\">\n",
       "      <th></th>\n",
       "      <th>High</th>\n",
       "      <th>Low</th>\n",
       "      <th>Open</th>\n",
       "      <th>Close</th>\n",
       "      <th>Volume</th>\n",
       "      <th>Adj Close</th>\n",
       "    </tr>\n",
       "    <tr>\n",
       "      <th>Date</th>\n",
       "      <th></th>\n",
       "      <th></th>\n",
       "      <th></th>\n",
       "      <th></th>\n",
       "      <th></th>\n",
       "      <th></th>\n",
       "    </tr>\n",
       "  </thead>\n",
       "  <tbody>\n",
       "    <tr>\n",
       "      <th>2014-01-02</th>\n",
       "      <td>52.400002</td>\n",
       "      <td>51.810001</td>\n",
       "      <td>52.029999</td>\n",
       "      <td>52.270000</td>\n",
       "      <td>16479700.0</td>\n",
       "      <td>48.380669</td>\n",
       "    </tr>\n",
       "    <tr>\n",
       "      <th>2014-01-03</th>\n",
       "      <td>53.470001</td>\n",
       "      <td>52.310001</td>\n",
       "      <td>52.389999</td>\n",
       "      <td>53.400002</td>\n",
       "      <td>26884900.0</td>\n",
       "      <td>49.426586</td>\n",
       "    </tr>\n",
       "    <tr>\n",
       "      <th>2014-01-06</th>\n",
       "      <td>54.290001</td>\n",
       "      <td>53.430000</td>\n",
       "      <td>53.619999</td>\n",
       "      <td>53.810001</td>\n",
       "      <td>28503100.0</td>\n",
       "      <td>49.806084</td>\n",
       "    </tr>\n",
       "  </tbody>\n",
       "</table>\n",
       "</div>"
      ],
      "text/plain": [
       "                 High        Low       Open      Close      Volume  Adj Close\n",
       "Date                                                                         \n",
       "2014-01-02  52.400002  51.810001  52.029999  52.270000  16479700.0  48.380669\n",
       "2014-01-03  53.470001  52.310001  52.389999  53.400002  26884900.0  49.426586\n",
       "2014-01-06  54.290001  53.430000  53.619999  53.810001  28503100.0  49.806084"
      ]
     },
     "execution_count": 7,
     "metadata": {},
     "output_type": "execute_result"
    }
   ],
   "source": [
    "citi.head(3)"
   ]
  },
  {
   "cell_type": "code",
   "execution_count": 8,
   "metadata": {},
   "outputs": [],
   "source": [
    "citi['returns'] = citi['Adj Close'].pct_change() #Computes the percentage change from the previous row by default"
   ]
  },
  {
   "cell_type": "code",
   "execution_count": 9,
   "metadata": {},
   "outputs": [
    {
     "data": {
      "text/html": [
       "<div>\n",
       "<style scoped>\n",
       "    .dataframe tbody tr th:only-of-type {\n",
       "        vertical-align: middle;\n",
       "    }\n",
       "\n",
       "    .dataframe tbody tr th {\n",
       "        vertical-align: top;\n",
       "    }\n",
       "\n",
       "    .dataframe thead th {\n",
       "        text-align: right;\n",
       "    }\n",
       "</style>\n",
       "<table border=\"1\" class=\"dataframe\">\n",
       "  <thead>\n",
       "    <tr style=\"text-align: right;\">\n",
       "      <th></th>\n",
       "      <th>High</th>\n",
       "      <th>Low</th>\n",
       "      <th>Open</th>\n",
       "      <th>Close</th>\n",
       "      <th>Volume</th>\n",
       "      <th>Adj Close</th>\n",
       "      <th>returns</th>\n",
       "    </tr>\n",
       "    <tr>\n",
       "      <th>Date</th>\n",
       "      <th></th>\n",
       "      <th></th>\n",
       "      <th></th>\n",
       "      <th></th>\n",
       "      <th></th>\n",
       "      <th></th>\n",
       "      <th></th>\n",
       "    </tr>\n",
       "  </thead>\n",
       "  <tbody>\n",
       "    <tr>\n",
       "      <th>2014-01-02</th>\n",
       "      <td>52.400002</td>\n",
       "      <td>51.810001</td>\n",
       "      <td>52.029999</td>\n",
       "      <td>52.270000</td>\n",
       "      <td>16479700.0</td>\n",
       "      <td>48.380669</td>\n",
       "      <td>NaN</td>\n",
       "    </tr>\n",
       "    <tr>\n",
       "      <th>2014-01-03</th>\n",
       "      <td>53.470001</td>\n",
       "      <td>52.310001</td>\n",
       "      <td>52.389999</td>\n",
       "      <td>53.400002</td>\n",
       "      <td>26884900.0</td>\n",
       "      <td>49.426586</td>\n",
       "      <td>0.021619</td>\n",
       "    </tr>\n",
       "    <tr>\n",
       "      <th>2014-01-06</th>\n",
       "      <td>54.290001</td>\n",
       "      <td>53.430000</td>\n",
       "      <td>53.619999</td>\n",
       "      <td>53.810001</td>\n",
       "      <td>28503100.0</td>\n",
       "      <td>49.806084</td>\n",
       "      <td>0.007678</td>\n",
       "    </tr>\n",
       "  </tbody>\n",
       "</table>\n",
       "</div>"
      ],
      "text/plain": [
       "                 High        Low       Open      Close      Volume  Adj Close  \\\n",
       "Date                                                                            \n",
       "2014-01-02  52.400002  51.810001  52.029999  52.270000  16479700.0  48.380669   \n",
       "2014-01-03  53.470001  52.310001  52.389999  53.400002  26884900.0  49.426586   \n",
       "2014-01-06  54.290001  53.430000  53.619999  53.810001  28503100.0  49.806084   \n",
       "\n",
       "             returns  \n",
       "Date                  \n",
       "2014-01-02       NaN  \n",
       "2014-01-03  0.021619  \n",
       "2014-01-06  0.007678  "
      ]
     },
     "execution_count": 9,
     "metadata": {},
     "output_type": "execute_result"
    }
   ],
   "source": [
    "citi.head(3)"
   ]
  },
  {
   "cell_type": "code",
   "execution_count": 10,
   "metadata": {},
   "outputs": [
    {
     "name": "stdout",
     "output_type": "stream",
     "text": [
      "Value at Risk is: $36382.84\n"
     ]
    }
   ],
   "source": [
    "#we can assume daily returns to be normally distributed: mean and variance (standard deviation):\n",
    "mu = np.mean(citi['returns'])\n",
    "sigma = np.std(citi['returns'])\n",
    "\n",
    "print('Value at Risk is: $%0.2f' % value_at_risk(S,c,mu,sigma))"
   ]
  },
  {
   "cell_type": "code",
   "execution_count": 16,
   "metadata": {},
   "outputs": [],
   "source": [
    "#If we possess $1m in citi shares today, the maximum amout of loss tomorrow is $36k, with 99% confidence level"
   ]
  },
  {
   "cell_type": "code",
   "execution_count": 15,
   "metadata": {},
   "outputs": [
    {
     "name": "stdout",
     "output_type": "stream",
     "text": [
      "Value at Risk is: $36382.84\n"
     ]
    }
   ],
   "source": [
    "print('Value at Risk is: $%0.2f' % value_at_risk_long(S,c,mu,sigma,n))"
   ]
  },
  {
   "cell_type": "markdown",
   "metadata": {},
   "source": [
    "## Monte-Carlo Method"
   ]
  },
  {
   "cell_type": "code",
   "execution_count": 17,
   "metadata": {},
   "outputs": [],
   "source": [
    "iterations = 100000 #Monte-Carlo simulations"
   ]
  },
  {
   "cell_type": "code",
   "execution_count": 79,
   "metadata": {},
   "outputs": [],
   "source": [
    "class ValueAtRiskMonteCarlo:\n",
    "    \n",
    "    def __init__(self,S,c,mu,sigma,n,iterations):\n",
    "        self.S = S\n",
    "        self.c = c\n",
    "        self.mu = mu\n",
    "        self.sigma = sigma\n",
    "        self.n = n\n",
    "        self.iterations = iterations\n",
    "        \n",
    "    def simulation(self):\n",
    "        \n",
    "        stock_data = np.zeros([self.iterations,1])\n",
    "        rand = np.random.normal(0,1,[1,self.iterations])\n",
    "        \n",
    "        #equation for the S(t) stock price\n",
    "        stock_price = self.S*np.exp(self.n*(self.mu-(self.sigma**2)/2)+self.sigma*np.sqrt(self.n)*rand)\n",
    "        \n",
    "        #we have to sort the stock prices to determine the percentile\n",
    "        stock_price = np.sort(stock_price) #facultatif je pense car la fonction percentile trie deja dans l'ordre\n",
    "\n",
    "        #it depends on the confidence level: 95% -> 5 and 99% -> 1\n",
    "        percentile = np.percentile(stock_price,(1-self.c)*100) #Returns the qth percentile(s) of the array elements.\n",
    "        print('Initial investment:', self.S)\n",
    "        print('Percentile value: $%0.2f' %percentile)\n",
    "        return self.S-percentile\n",
    "    \n",
    "    #En gros on genere pleins de prix qui correspondent a la valeur que notre investissement S pourrait etre demain\n",
    "    #avec notre equation. On prend le 1th ou 5th percentile qui correspond a la valeur au dessous de laquelle on a \n",
    "    #1% ou 5% des valeurs les plus faibles (donc les simulations pour lesquelles la valeur de notre investissement\n",
    "    #aurait perdu le plus) et on fini par soustraire ce percentile a notre valeur d'investissement initial S.\n",
    "    "
   ]
  },
  {
   "cell_type": "code",
   "execution_count": 85,
   "metadata": {},
   "outputs": [],
   "source": [
    "model = ValueAtRiskMonteCarlo(S,c,mu,sigma,n,iterations)"
   ]
  },
  {
   "cell_type": "code",
   "execution_count": 86,
   "metadata": {},
   "outputs": [
    {
     "name": "stdout",
     "output_type": "stream",
     "text": [
      "Initial investment: 1000000.0\n",
      "Percentile value: $964909.76\n",
      "Value at risk with Monte-Carlo simulation: $35090.24\n"
     ]
    }
   ],
   "source": [
    "print('Value at risk with Monte-Carlo simulation: $%0.2f' % model.simulation())"
   ]
  }
 ],
 "metadata": {
  "hide_input": false,
  "kernelspec": {
   "display_name": "Python 3",
   "language": "python",
   "name": "python3"
  },
  "language_info": {
   "codemirror_mode": {
    "name": "ipython",
    "version": 3
   },
   "file_extension": ".py",
   "mimetype": "text/x-python",
   "name": "python",
   "nbconvert_exporter": "python",
   "pygments_lexer": "ipython3",
   "version": "3.7.1"
  }
 },
 "nbformat": 4,
 "nbformat_minor": 2
}
