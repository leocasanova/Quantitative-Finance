{
 "cells": [
  {
   "cell_type": "code",
   "execution_count": 94,
   "metadata": {},
   "outputs": [],
   "source": [
    "import numpy as np\n",
    "import pandas as pd\n",
    "from scipy import log,exp,sqrt,stats\n",
    "import math\n",
    "import time"
   ]
  },
  {
   "cell_type": "markdown",
   "metadata": {},
   "source": [
    "## Option pricing with Black-Scholes model"
   ]
  },
  {
   "cell_type": "code",
   "execution_count": 140,
   "metadata": {},
   "outputs": [],
   "source": [
    "def BlackScholes_call(S,E,T,t,rf,sigma):\n",
    "    #first we have to calculate d1 and d2 parameters\n",
    "    d1 = (log(S/E)+(rf+(sigma**2)/2)*(T-t))/(sigma*sqrt(T-t))\n",
    "    d2 = d1-sigma*sqrt(T-t)\n",
    "    \n",
    "    #we need N(x) normal distribution function\n",
    "    return S*stats.norm.cdf(d1)-E*exp(-rf*(T-t))*stats.norm.cdf(d2)"
   ]
  },
  {
   "cell_type": "code",
   "execution_count": 141,
   "metadata": {},
   "outputs": [],
   "source": [
    "def BlackScholes_put(S,E,T,t,rf,sigma):\n",
    "    #first we have to calculate d1 and d2 parameters\n",
    "    d1 = (log(S/E)+(rf+sigma**2/2)*(T-t))/(sigma*sqrt(T-t))\n",
    "    d2 = d1-sigma*sqrt(T-t)\n",
    "    \n",
    "    #we need N(x) normal distribution function\n",
    "    return -S*stats.norm.cdf(-d1)+E*exp(-rf*(T-t))*stats.norm.cdf(-d2)"
   ]
  },
  {
   "cell_type": "code",
   "execution_count": 161,
   "metadata": {},
   "outputs": [],
   "source": [
    "S0 = 100 #underlying stock price at t = 0\n",
    "E = 100 #strike price\n",
    "T = 1 #expiry 1 = 1 year = 365 days\n",
    "t = 0\n",
    "rf = 0.05 #risk-free rate, 5%\n",
    "sigma = 0.2 #volatility of underlying stock, 20%"
   ]
  },
  {
   "cell_type": "code",
   "execution_count": 162,
   "metadata": {},
   "outputs": [
    {
     "name": "stdout",
     "output_type": "stream",
     "text": [
      "Call option price according to Black-Scholes model: 10.450583572185565\n",
      "Put option price according to Black-Scholes model: 5.573526022256971\n"
     ]
    }
   ],
   "source": [
    "print(\"Call option price according to Black-Scholes model:\", BlackScholes_call(S0, E, T, t, rf, sigma))\n",
    "print(\"Put option price according to Black-Scholes model:\", BlackScholes_put(S0, E, T, t, rf, sigma))"
   ]
  },
  {
   "cell_type": "markdown",
   "metadata": {},
   "source": [
    "## Option pricing with Monte-Carlo Simulation"
   ]
  },
  {
   "cell_type": "code",
   "execution_count": 171,
   "metadata": {},
   "outputs": [],
   "source": [
    "class OptionPricing:\n",
    "    t = 0.5 #to use this parameter uncomment line 22 & 38\n",
    "    \n",
    "    def __init__(self,S0,E,T,rf,sigma,iterations):\n",
    "        self.S0 = S0\n",
    "        self.E = E\n",
    "        self.T = T\n",
    "        self.rf = rf\n",
    "        self.sigma = sigma\n",
    "        self.iterations = iterations #how many stock prices we want to simulate\n",
    "        \n",
    "    def call_option_simulation(self):\n",
    "        #payoff function is max(0,S-E) for call option\n",
    "        #We have 2 columns: first column with 0s, second column will store the payoff S-E\n",
    "        option_data = np.zeros([self.iterations, 2]) #matrice de 0 de dim [iterations x 2]\n",
    "        \n",
    "        #dimensions: 1 dimensional array with as many items as the iterations\n",
    "        rand = np.random.normal(0, 1, [1,self.iterations])\n",
    "        \n",
    "        #equation for the S(t) stock price (which we need for payoff function S-E)\n",
    "        stock_price = self.S0*np.exp(self.T*(self.rf - (self.sigma**2/2))+self.sigma*np.sqrt(self.T)*rand)\n",
    "        #stock_price = self.S0*np.exp((self.T-t)*(self.rf - (self.sigma**2/2))+self.sigma*np.sqrt(self.T-t)*rand)\n",
    "        \n",
    "        #we need S-E because we have to calculate the max(S-E,0)\n",
    "        option_data[:,1] = stock_price - self.E \n",
    "        \n",
    "        #average for the Monte-Carlo method\n",
    "        #np.amax() returns the max(0,S-E) according to the formula\n",
    "        average = np.sum(np.amax(option_data, axis=1))/self.iterations\n",
    "        \n",
    "        #have to use the exp(-rT) discount factor (future payoff)\n",
    "        return np.exp(-self.rf*self.T)*average\n",
    "    \n",
    "    def put_option_simulation(self):\n",
    "        option_data = np.zeros([self.iterations, 2])\n",
    "        rand = np.random.normal(0, 1, [1,self.iterations])\n",
    "        stock_price = self.S0*np.exp(self.T*(self.rf - (self.sigma**2/2))+self.sigma*np.sqrt(self.T)*rand)\n",
    "        #stock_price = self.S0*np.exp((self.T-t)*(self.rf - (self.sigma**2/2))+self.sigma*np.sqrt(self.T-t)*rand)\n",
    "        #we need E-S because put option\n",
    "        option_data[:,1] = self.E - stock_price\n",
    "        average = np.sum(np.amax(option_data, axis=1))/self.iterations\n",
    "        return np.exp(-self.rf*self.T)*average\n",
    "    \n",
    "#On a une formule pour calculer le prix S(T) du stock a la maturite\n",
    "#Donc on genere pleins de prix differents, on fait la soustraction ensuite avec le strike price/expiry price\n",
    "#Puis on prend tous les payoffs obtenus (combien nous rapporte l'exercice de l'option pour chaque prix generes)\n",
    "#Et on prend la moyenne des payoffs qui nous donne un prix qui correspond donc au prix de l'option"
   ]
  },
  {
   "cell_type": "code",
   "execution_count": 172,
   "metadata": {},
   "outputs": [
    {
     "name": "stdout",
     "output_type": "stream",
     "text": [
      "Call option price according to Black-Scholes model: 10.443027262746199\n",
      "Put option price according to Black-Scholes model: 5.571936011989728\n"
     ]
    }
   ],
   "source": [
    "iterations = 10000000\n",
    "model = OptionPricing(S0, E, T, rf, sigma, iterations)\n",
    "\n",
    "print(\"Call option price according to Black-Scholes model:\", model.call_option_simulation())\n",
    "print(\"Put option price according to Black-Scholes model:\", model.put_option_simulation())"
   ]
  },
  {
   "cell_type": "code",
   "execution_count": null,
   "metadata": {},
   "outputs": [],
   "source": []
  }
 ],
 "metadata": {
  "hide_input": false,
  "kernelspec": {
   "display_name": "Python 3",
   "language": "python",
   "name": "python3"
  },
  "language_info": {
   "codemirror_mode": {
    "name": "ipython",
    "version": 3
   },
   "file_extension": ".py",
   "mimetype": "text/x-python",
   "name": "python",
   "nbconvert_exporter": "python",
   "pygments_lexer": "ipython3",
   "version": "3.7.6"
  },
  "toc": {
   "base_numbering": 1,
   "nav_menu": {},
   "number_sections": true,
   "sideBar": true,
   "skip_h1_title": false,
   "title_cell": "Table of Contents",
   "title_sidebar": "Contents",
   "toc_cell": false,
   "toc_position": {},
   "toc_section_display": true,
   "toc_window_display": false
  }
 },
 "nbformat": 4,
 "nbformat_minor": 2
}
